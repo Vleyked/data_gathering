{
 "cells": [
  {
   "cell_type": "code",
   "execution_count": 1,
   "metadata": {},
   "outputs": [],
   "source": [
    "# Id's got from https://data.stackexchange.com/stackoverflow/query/new\n",
    "bigquery_SO_questionId = (\"50159853\", \"50433882\", \"...\"")"
   ]
  },
  {
   "cell_type": "code",
   "execution_count": 2,
   "metadata": {},
   "outputs": [],
   "source": [
    "# Id's got from https://data.stackexchange.com/stackoverflow/query/new\n",
    "bigquery_SO_acceptedAnswerId = (\"50159887\", \"50437421\", \"...\"")"
   ]
  },
  {
   "cell_type": "code",
   "execution_count": null,
   "metadata": {},
   "outputs": [],
   "source": [
    "# a = (\"50159853\", \"50433882\", \"50463242\")\n",
    "# b = (\"50159887\", \"50437421\", \"50465775\")\n",
    "\n",
    "from google.cloud import bigquery\n",
    "from urllib.request import urlopen\n",
    "from bs4 import BeautifulSoup\n",
    "\n",
    "# SQL to get data of the Bigquery question with valid answer between 01/01/2018 to 23/01/2020 Downloaded the CSV \n",
    "# from {https://data.stackexchange.com/stackoverflow/query/new} and loaded to my Bigquery project\n",
    "\n",
    "client = bigquery.Client()\n",
    "\n",
    "def get_question_body(post_id):\n",
    "    client = bigquery.Client()\n",
    "    query_job = client.query(\"\"\"\n",
    "        SELECT Body FROM `cidfiguera-testproject1.double_a.BigQuerySOData` \n",
    "        WHERE Id = {0}\"\"\".format(post_id))\n",
    "\n",
    "    results = query_job.result()  # Waits for job to complete.\n",
    "\n",
    "    for row in results:\n",
    "        return(\"{0}\".format(row.Body))\n",
    "\n",
    "\n",
    "def get_tags(post_id):\n",
    "    client = bigquery.Client()\n",
    "    query_job = client.query(\"\"\"\n",
    "        SELECT Tags FROM `cidfiguera-testproject1.double_a.BigQuerySOData` \n",
    "        WHERE Id = {0}\"\"\".format(post_id))\n",
    "\n",
    "    results = query_job.result()  # Waits for job to complete.\n",
    "\n",
    "    for row in results:\n",
    "        return(\"{0}\".format(row.Tags))\n",
    "\n",
    "    \n",
    "def get_title(post_id):\n",
    "    client = bigquery.Client()\n",
    "    query_job = client.query(\"\"\"\n",
    "        SELECT Title FROM `cidfiguera-testproject1.double_a.BigQuerySOData` \n",
    "        WHERE Id = {0}\"\"\".format(post_id))\n",
    "\n",
    "    results = query_job.result()  # Waits for job to complete.\n",
    "\n",
    "    for row in results:\n",
    "        return(\"{0}\".format(row.Title))\n",
    "\n",
    "def get_acceptedAnswer_body(post_id, acceptedAnswerId):\n",
    "    html = urlopen('https://stackoverflow.com/questions/{}'.format(post_id))\n",
    "    bs = BeautifulSoup(html.read(), \"html.parser\")\n",
    "    answerBox = bs.find('div', {'id': 'answer-{}'.format(acceptedAnswerId)})\n",
    "    answerText = answerBox.select('div.post-text')\n",
    "    #body = '\\n'.join([line for line in answerText])\n",
    "    return(str(answerText))\n",
    "    \n",
    "with open(\"../data/1tomany/bigquerySOpreprocesseddata.txt\", \"a\") as bigquerySOdataset:\n",
    "    for x, y in zip(bigquery_SO_questionId , bigquery_SO_acceptedAnswerId):\n",
    "        bigquerySOdataset.write(\"Tags: {1}\\nTitle: {0}\\nQuestion:\\n{2}\\nAnswer:\\n{3}\\n\\n\".format(get_title(x), get_tags(x), get_question_body(x), get_acceptedAnswer_body(x, y)))"
   ]
  },
  {
   "cell_type": "code",
   "execution_count": null,
   "metadata": {},
   "outputs": [],
   "source": []
  }
 ],
 "metadata": {
  "kernelspec": {
   "display_name": "Python 3",
   "language": "python",
   "name": "python3"
  },
  "language_info": {
   "codemirror_mode": {
    "name": "ipython",
    "version": 3
   },
   "file_extension": ".py",
   "mimetype": "text/x-python",
   "name": "python",
   "nbconvert_exporter": "python",
   "pygments_lexer": "ipython3",
   "version": "3.5.3"
  }
 },
 "nbformat": 4,
 "nbformat_minor": 4
}
